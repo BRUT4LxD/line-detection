{
 "cells": [
  {
   "cell_type": "code",
   "execution_count": 22,
   "metadata": {},
   "outputs": [],
   "source": [
    "import cv2\n",
    "import numpy as np\n",
    "import matplotlib\n",
    "from matplotlib.pyplot import imshow\n",
    "from matplotlib import pyplot as plt\n",
    "\n",
    "FILE_PATH = 'road.jpg'\n",
    "TOP_CUT = 0.6\n",
    "SIDE_CUT = 0.2"
   ]
  },
  {
   "cell_type": "code",
   "execution_count": 23,
   "metadata": {},
   "outputs": [
    {
     "name": "stdout",
     "output_type": "stream",
     "text": [
      "(141, 307, 3)\n"
     ]
    }
   ],
   "source": [
    "# white color mask\n",
    "img = cv2.imread(FILE_PATH)\n",
    "height, width = img.shape[0], img.shape[1]\n",
    "img = img[int (height*TOP_CUT):height, int(width*SIDE_CUT):int(width*(1 - SIDE_CUT)), :]\n",
    "print(img.shape)\n",
    "#converted = convert_hls(img)\n",
    "image = cv2.cvtColor(img,cv2.COLOR_BGR2HLS)\n",
    "lower = np.uint8([0, 200, 0])\n",
    "upper = np.uint8([255, 255, 255])\n",
    "mask = cv2.inRange(image, lower, upper)\n",
    "# yellow color mask\n",
    "#lower = np.uint8([10, 0,   100])\n",
    "#upper = np.uint8([40, 255, 255])\n",
    "#yellow_mask = cv2.inRange(image, lower, upper)\n",
    "# combine the mask\n",
    "#mask = cv2.bitwise_or(white_mask, yellow_mask)\n",
    "result = img.copy()\n",
    "cv2.imshow(\"mask\",mask) "
   ]
  },
  {
   "cell_type": "code",
   "execution_count": 24,
   "metadata": {},
   "outputs": [],
   "source": [
    "height,width = mask.shape\n",
    "skel = np.zeros([height,width],dtype=np.uint8)      #[height,width,3]\n",
    "kernel = cv2.getStructuringElement(cv2.MORPH_CROSS, (3,3))\n",
    "temp_nonzero = np.count_nonzero(mask)\n",
    "while(np.count_nonzero(mask) != 0 ):\n",
    "    eroded = cv2.erode(mask,kernel)\n",
    "    cv2.imshow(\"eroded\",eroded)   \n",
    "    temp = cv2.dilate(eroded,kernel)\n",
    "    cv2.imshow(\"dilate\",temp)\n",
    "    temp = cv2.subtract(mask,temp)\n",
    "    skel = cv2.bitwise_or(skel,temp)\n",
    "    mask = eroded.copy()\n",
    "\n",
    "cv2.imshow(\"skel\",skel)\n",
    "#cv2.waitKey(0)\n"
   ]
  },
  {
   "cell_type": "code",
   "execution_count": 25,
   "metadata": {},
   "outputs": [
    {
     "name": "stdout",
     "output_type": "stream",
     "text": [
      "1\n"
     ]
    },
    {
     "data": {
      "text/plain": [
       "-1"
      ]
     },
     "execution_count": 25,
     "metadata": {},
     "output_type": "execute_result"
    }
   ],
   "source": [
    "edges = cv2.Canny(skel, 50, 150)\n",
    "cv2.imshow(\"edges\",edges)\n",
    "lines = cv2.HoughLinesP(edges,1,np.pi/180,40,minLineLength=30,maxLineGap=30)\n",
    "i = 0\n",
    "for x1,y1,x2,y2 in lines[0]:\n",
    "    i+=1\n",
    "    cv2.line(result,(x1,y1),(x2,y2),(255,0,0),1)\n",
    "print (i)\n",
    "\n",
    "cv2.imshow(\"res\",result)\n",
    "cv2.waitKey(0)"
   ]
  },
  {
   "cell_type": "code",
   "execution_count": null,
   "metadata": {},
   "outputs": [],
   "source": []
  },
  {
   "cell_type": "code",
   "execution_count": null,
   "metadata": {},
   "outputs": [],
   "source": []
  },
  {
   "cell_type": "code",
   "execution_count": null,
   "metadata": {},
   "outputs": [],
   "source": []
  }
 ],
 "metadata": {
  "kernelspec": {
   "display_name": "Python 3",
   "language": "python",
   "name": "python3"
  },
  "language_info": {
   "codemirror_mode": {
    "name": "ipython",
    "version": 3
   },
   "file_extension": ".py",
   "mimetype": "text/x-python",
   "name": "python",
   "nbconvert_exporter": "python",
   "pygments_lexer": "ipython3",
   "version": "3.7.6"
  }
 },
 "nbformat": 4,
 "nbformat_minor": 4
}
